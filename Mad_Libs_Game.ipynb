{
  "nbformat": 4,
  "nbformat_minor": 0,
  "metadata": {
    "colab": {
      "name": "Mad Libs Game.ipynb",
      "provenance": []
    },
    "kernelspec": {
      "name": "python3",
      "display_name": "Python 3"
    },
    "language_info": {
      "name": "python"
    }
  },
  "cells": [
    {
      "cell_type": "code",
      "source": [
        "color = input(\"Enter a color: \")\n",
        "pluralNoun = input(\"Enter a plural noun: \")\n",
        "celebrity = input(\"Enter a celebrity: \")\n",
        "\n",
        "print(\"Roses are\", color)\n",
        "print(pluralNoun + \" are blue\")\n",
        "print(\"I love\", celebrity)"
      ],
      "metadata": {
        "colab": {
          "base_uri": "https://localhost:8080/"
        },
        "id": "bOOyo1n9aErx",
        "outputId": "d905ff60-3950-40bd-f292-7d4ea728cc09"
      },
      "execution_count": 21,
      "outputs": [
        {
          "output_type": "stream",
          "name": "stdout",
          "text": [
            "Enter a color: red\n",
            "Enter a plural noun: are\n",
            "Enter a celebrity: kai\n",
            "Roses are red\n",
            "are are blue\n",
            "I love kai\n"
          ]
        }
      ]
    }
  ]
}